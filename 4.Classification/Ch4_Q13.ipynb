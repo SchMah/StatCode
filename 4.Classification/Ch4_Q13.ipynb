{
 "cells": [
  {
   "cell_type": "code",
   "execution_count": 61,
   "id": "906c2cfc-3829-41ce-a028-901f8d38b446",
   "metadata": {},
   "outputs": [],
   "source": [
    "import os\n",
    "import numpy as np\n",
    "import matplotlib.pyplot as plt\n",
    "import pandas as pd\n",
    "from ISLP import load_data\n",
    "import statsmodels.api as sm\n",
    "from sklearn.discriminant_analysis import LinearDiscriminantAnalysis as LDA\n",
    "from sklearn.discriminant_analysis import QuadraticDiscriminantAnalysis as QDA\n",
    "from sklearn.naive_bayes import GaussianNB\n",
    "from sklearn.neighbors import KNeighborsClassifier\n",
    "from sklearn.preprocessing import StandardScaler\n",
    "from sklearn.metrics import confusion_matrix\n",
    "\n"
   ]
  },
  {
   "cell_type": "code",
   "execution_count": 21,
   "id": "b9ea56a3-d181-4e67-85a8-00dd3de6d501",
   "metadata": {},
   "outputs": [
    {
     "name": "stdout",
     "output_type": "stream",
     "text": [
      "   Year   Lag1   Lag2   Lag3   Lag4   Lag5    Volume  Today Direction\n",
      "0  1990  0.816  1.572 -3.936 -0.229 -3.484  0.154976 -0.270      Down\n",
      "1  1990 -0.270  0.816  1.572 -3.936 -0.229  0.148574 -2.576      Down\n",
      "2  1990 -2.576 -0.270  0.816  1.572 -3.936  0.159837  3.514        Up\n",
      "3  1990  3.514 -2.576 -0.270  0.816  1.572  0.161630  0.712        Up\n",
      "4  1990  0.712  3.514 -2.576 -0.270  0.816  0.153728  1.178        Up\n",
      "            Year      Lag1      Lag2      Lag3      Lag4      Lag5    Volume  \\\n",
      "Year    1.000000 -0.032289 -0.033390 -0.030006 -0.031128 -0.030519  0.841942   \n",
      "Lag1   -0.032289  1.000000 -0.074853  0.058636 -0.071274 -0.008183 -0.064951   \n",
      "Lag2   -0.033390 -0.074853  1.000000 -0.075721  0.058382 -0.072499 -0.085513   \n",
      "Lag3   -0.030006  0.058636 -0.075721  1.000000 -0.075396  0.060657 -0.069288   \n",
      "Lag4   -0.031128 -0.071274  0.058382 -0.075396  1.000000 -0.075675 -0.061075   \n",
      "Lag5   -0.030519 -0.008183 -0.072499  0.060657 -0.075675  1.000000 -0.058517   \n",
      "Volume  0.841942 -0.064951 -0.085513 -0.069288 -0.061075 -0.058517  1.000000   \n",
      "Today  -0.032460 -0.075032  0.059167 -0.071244 -0.007826  0.011013 -0.033078   \n",
      "\n",
      "           Today  \n",
      "Year   -0.032460  \n",
      "Lag1   -0.075032  \n",
      "Lag2    0.059167  \n",
      "Lag3   -0.071244  \n",
      "Lag4   -0.007826  \n",
      "Lag5    0.011013  \n",
      "Volume -0.033078  \n",
      "Today   1.000000  \n"
     ]
    },
    {
     "data": {
      "text/plain": [
       "<Axes: >"
      ]
     },
     "execution_count": 21,
     "metadata": {},
     "output_type": "execute_result"
    },
    {
     "data": {
      "image/png": "[encoded data removed]",
      "text/plain": [
       "<Figure size 640x480 with 1 Axes>"
      ]
     },
     "metadata": {},
     "output_type": "display_data"
    }
   ],
   "source": [
    "weekly = load_data('Weekly')\n",
    "print(weekly.head())\n",
    "# (a)\n",
    "print(weekly.corr(numeric_only=True, method='pearson'))\n",
    "weekly.plot (y = 'Volume')"
   ]
  },
  {
   "cell_type": "markdown",
   "id": "a839ece9-e464-45a6-b052-a41ed0056573",
   "metadata": {},
   "source": [
    "## **(B)** Logistic regression using the full data set"
   ]
  },
  {
   "cell_type": "code",
   "execution_count": null,
   "id": "e6beb985-cd27-4990-9c50-72a72c877a32",
   "metadata": {},
   "outputs": [],
   "source": [
    "#(b) logistic regression (Direction as the response variable and five lags+Volum as predictors)\n",
    "predictors = weekly.columns.drop(['Today', 'Year', 'Direction'])\n",
    "x = sm.add_constant(weekly[predictors])\n",
    "weekly['Direction_bin'] = weekly['Direction'].map({'Up': 1, 'Down': 0})\n",
    "results = sm.GLM(weekly['Direction_bin'], x, family=sm.families.Binomial()).fit()\n",
    "results.summary()"
   ]
  },
  {
   "cell_type": "code",
   "execution_count": 112,
   "id": "c5b32f92-d36c-4fd3-80cb-0c4b91821479",
   "metadata": {},
   "outputs": [
    {
     "name": "stdout",
     "output_type": "stream",
     "text": [
      "[[484   0]\n",
      " [  0 605]]\n"
     ]
    }
   ],
   "source": [
    "# (c) confusion_matrix\n",
    "probs = results.predict(x)\n",
    "#np.size(probs)\n",
    "labels = np.array(['Down']*np.size(probs))\n",
    "labels[probs>0.5] = \"Up\"\n",
    "print(confusion_matrix(labels, weekly.Direction))"
   ]
  },
  {
   "cell_type": "code",
   "execution_count": 113,
   "id": "c5417a2d-33d3-4620-a570-afd6191ec200",
   "metadata": {},
   "outputs": [
    {
     "name": "stdout",
     "output_type": "stream",
     "text": [
      "Error rate is  0.43893480257116624\n"
     ]
    }
   ],
   "source": [
    "(54+557)/np.size(probs), np.mean(labels == weekly.Direction)\n",
    "print(\"Error rate is \", 1 - (54+557)/np.size(probs))"
   ]
  },
  {
   "cell_type": "markdown",
   "id": "9468ccff-c565-4e63-bce5-3c2d9071a2e7",
   "metadata": {},
   "source": [
    "## **(D)** Logistic regression using a subset of data "
   ]
  },
  {
   "cell_type": "code",
   "execution_count": 114,
   "id": "de29633d-de07-4549-9583-dbc3d05bf97f",
   "metadata": {},
   "outputs": [
    {
     "name": "stdout",
     "output_type": "stream",
     "text": [
      "                 Generalized Linear Model Regression Results                  \n",
      "==============================================================================\n",
      "Dep. Variable:              Direction   No. Observations:                  985\n",
      "Model:                            GLM   Df Residuals:                      983\n",
      "Model Family:                Gaussian   Df Model:                            1\n",
      "Link Function:               Identity   Scale:                         0.24673\n",
      "Method:                          IRLS   Log-Likelihood:                -707.41\n",
      "Date:                Mon, 24 Feb 2025   Deviance:                       242.53\n",
      "Time:                        12:17:22   Pearson chi2:                     243.\n",
      "No. Iterations:                     3   Pseudo R-squ. (CS):           0.004216\n",
      "Covariance Type:            nonrobust                                         \n",
      "==============================================================================\n",
      "                 coef    std err          z      P>|z|      [0.025      0.975]\n",
      "------------------------------------------------------------------------------\n",
      "const          0.5505      0.016     34.726      0.000       0.519       0.582\n",
      "Lag2           0.0142      0.007      2.039      0.041       0.001       0.028\n",
      "==============================================================================\n",
      "[[ 9  5]\n",
      " [34 56]]\n"
     ]
    }
   ],
   "source": [
    "# (d) fit the logistic regression model using a training data period from 1990 to 2008. \n",
    "# the predictor: lag2\n",
    "train_dataset = weekly[(weekly.Year > 1989) & (weekly.Year < 2009)]\n",
    "X_train  = sm.add_constant(train_dataset['Lag2'])\n",
    "y = train_dataset['Direction'].map({'Up':1, 'Down' : 0})\n",
    "results = sm.GLM (y, X_train).fit()\n",
    "print(results.summary())\n",
    "\n",
    "# test dataset\n",
    "test_dataset = weekly[(weekly.Year > 2008) & (weekly.Year < 2011)]\n",
    "probs = results.predict(sm.add_constant(test_dataset['Lag2']))\n",
    "labels = np.array(['Down']* np.size(probs))\n",
    "labels[probs > 0.5] = \"Up\"\n",
    "print(confusion_matrix(labels, test_dataset.Direction))\n"
   ]
  },
  {
   "cell_type": "code",
   "execution_count": 115,
   "id": "21168949-85b7-4389-ac5a-e57282c86e63",
   "metadata": {},
   "outputs": [
    {
     "name": "stdout",
     "output_type": "stream",
     "text": [
      "Error rate is:  0.375\n"
     ]
    }
   ],
   "source": [
    "print(\"Error rate is: \", 1 - (9+56)/np.size(probs))"
   ]
  },
  {
   "cell_type": "markdown",
   "id": "5af13b39-83fc-4cc8-a36d-ec4ae9c5a4b6",
   "metadata": {},
   "source": [
    "### **(E)** Using LDA"
   ]
  },
  {
   "cell_type": "code",
   "execution_count": 142,
   "id": "ebf133fd-d63a-4d75-9d05-93ccf901c441",
   "metadata": {},
   "outputs": [
    {
     "name": "stdout",
     "output_type": "stream",
     "text": [
      "[[ 9  5]\n",
      " [34 56]]\n"
     ]
    }
   ],
   "source": [
    "# (e) repeat (d) using LDA \n",
    "lda = LDA(store_covariance=True)\n",
    "X_train = train_dataset[['Lag2']]\n",
    "y = train_dataset['Direction'].map({'Up':1, 'Down' : 0})\n",
    "LDA_fit = lda.fit(X_train, y)\n",
    "\n",
    "# test dataset\n",
    "X_test = test_dataset[['Lag2']]\n",
    "y_predicted = LDA_fit.predict(X_test)\n",
    "# convert binary to labels\n",
    "# create a matrix of the same size as y_predicted and assign all elements as Down\n",
    "y_predicted_labels = np.array(['Down']* np.size(y_predicted))\n",
    "# replace 1 with Ups\n",
    "y_predicted_labels[y_predicted > 0.5] = \"Up\"\n",
    "print(confusion_matrix(y_predicted_labels, test_dataset.Direction))\n"
   ]
  },
  {
   "cell_type": "code",
   "execution_count": 117,
   "id": "f942d4b9-d44b-4bb9-9fd9-f8e431d3f067",
   "metadata": {},
   "outputs": [
    {
     "name": "stdout",
     "output_type": "stream",
     "text": [
      "Error rate is:  0.375\n"
     ]
    }
   ],
   "source": [
    "print(\"Error rate is: \", 1 - (9+56)/np.size(y_predicted))"
   ]
  },
  {
   "cell_type": "markdown",
   "id": "9a1aff88-c228-4b56-b024-9e1c77ba625a",
   "metadata": {},
   "source": [
    "### **(F)** Using QDA"
   ]
  },
  {
   "cell_type": "code",
   "execution_count": 143,
   "id": "538257f5-1496-4c9e-9596-a3299309d052",
   "metadata": {},
   "outputs": [
    {
     "name": "stdout",
     "output_type": "stream",
     "text": [
      "[[ 0  0]\n",
      " [43 61]]\n"
     ]
    }
   ],
   "source": [
    "# repeat (d) using QDA\n",
    "qda = QDA(store_covariance=True)\n",
    "qda_fit = qda.fit(X_train, y)\n",
    "\n",
    "# test dataset\n",
    "y_pred_qda = qda_fit.predict(X_test)\n",
    "# convert binary to labels\n",
    "# create a matrix of the same size as y_predicted and assign all elements as Down\n",
    "y_pred_qda_labels = np.array(['Down']* np.size(y_pred_qda))\n",
    "# replace 1 with Ups\n",
    "y_pred_qda_labels[y_pred_qda > 0.5] = \"Up\"\n",
    "print(confusion_matrix(y_pred_qda_labels, test_dataset.Direction))\n"
   ]
  },
  {
   "cell_type": "code",
   "execution_count": 119,
   "id": "be1d0d8d-05be-47d5-8bbf-bfb3f720a826",
   "metadata": {},
   "outputs": [
    {
     "name": "stdout",
     "output_type": "stream",
     "text": [
      "Error rate is:  0.41346153846153844\n"
     ]
    }
   ],
   "source": [
    "print(\"Error rate is: \", 1 - (0+61)/np.size(y_pred_qda))"
   ]
  },
  {
   "cell_type": "markdown",
   "id": "eec090e7-247e-48b5-8704-8a4e6290a90b",
   "metadata": {},
   "source": [
    "## **(G)** KNN with N=1"
   ]
  },
  {
   "cell_type": "code",
   "execution_count": 120,
   "id": "0b7767e6-846b-45bf-b2ff-4949bbfdce26",
   "metadata": {},
   "outputs": [
    {
     "name": "stdout",
     "output_type": "stream",
     "text": [
      "[[21 30]\n",
      " [22 31]]\n"
     ]
    }
   ],
   "source": [
    "knn1 = KNeighborsClassifier(n_neighbors=1)\n",
    "knn_fit = knn1.fit(X_train, y)\n",
    "y_KNN_pred = knn_fit.predict(X_test)\n",
    "# convert binary to labels\n",
    "# create a matrix of the same size as y_predicted and assign all elements as Down\n",
    "y_KNN_pred_labels = np.array(['Down']* np.size(y_KNN_pred))\n",
    "# replace 1 with Ups\n",
    "y_KNN_pred_labels[y_KNN_pred > 0.5] = \"Up\"\n",
    "print(confusion_matrix(y_KNN_pred_labels, test_dataset.Direction))"
   ]
  },
  {
   "cell_type": "code",
   "execution_count": 121,
   "id": "54398f26-2b64-43d3-a478-34e41787ef85",
   "metadata": {},
   "outputs": [
    {
     "name": "stdout",
     "output_type": "stream",
     "text": [
      "Error rate is:  0.5\n"
     ]
    }
   ],
   "source": [
    "print(\"Error rate is: \", 1 - (31+21)/np.size(y_KNN_pred))"
   ]
  },
  {
   "cell_type": "markdown",
   "id": "e679867c-2c51-44ea-a5a9-f1b17ced48b4",
   "metadata": {},
   "source": [
    "## **(H)** naive Bayes\n"
   ]
  },
  {
   "cell_type": "code",
   "execution_count": 135,
   "id": "84e508f9-39c1-43cc-9cb0-5867c7353c10",
   "metadata": {},
   "outputs": [
    {
     "name": "stdout",
     "output_type": "stream",
     "text": [
      "             Predicted Down  Predicted Up\n",
      "Actual Down               0             0\n",
      "Actual Up                43            61\n"
     ]
    }
   ],
   "source": [
    "NB = GaussianNB()\n",
    "NB.fit(X_train, y)\n",
    "y_NB_pred = NB_fit.predict(X_test)\n",
    "# convert binary to labels\n",
    "# create a matrix of the same size as y_predicted and assign all elements as Down\n",
    "y_NB_pred_labels = np.array(['Down']* np.size(y_NB_pred))\n",
    "# replace 1 with Ups\n",
    "y_NB_pred_labels[y_NB_pred > 0.5] = \"Up\"\n",
    "confusion_matrix(y_NB_pred_labels, test_dataset.Direction)\n",
    "cm_df = pd.DataFrame(confusion_matrix(y_NB_pred_labels, test_dataset.Direction), \n",
    "                    index = ['Actual Down' , 'Actual Up'],\n",
    "                     columns = ['Predicted Down','Predicted Up'])\n",
    "print(cm_df)"
   ]
  },
  {
   "cell_type": "code",
   "execution_count": 136,
   "id": "73a98a1c-d61e-42dc-86d9-b8f54d2db147",
   "metadata": {},
   "outputs": [
    {
     "name": "stdout",
     "output_type": "stream",
     "text": [
      "Error rate is:  0.41346153846153844\n"
     ]
    }
   ],
   "source": [
    "print(\"Error rate is: \", 1 - (61+0)/np.size(y_NB_pred))"
   ]
  }
 ],
 "metadata": {
  "kernelspec": {
   "display_name": "Python 3 (ipykernel)",
   "language": "python",
   "name": "python3"
  },
  "language_info": {
   "codemirror_mode": {
    "name": "ipython",
    "version": 3
   },
   "file_extension": ".py",
   "mimetype": "text/x-python",
   "name": "python",
   "nbconvert_exporter": "python",
   "pygments_lexer": "ipython3",
   "version": "3.12.8"
  }
 },
 "nbformat": 4,
 "nbformat_minor": 5
}
