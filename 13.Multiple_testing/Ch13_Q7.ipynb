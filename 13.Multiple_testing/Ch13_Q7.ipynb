{
 "cells": [
  {
   "cell_type": "code",
   "execution_count": 88,
   "id": "dd0c8abd-47c2-49ac-b04e-091e24d9eedb",
   "metadata": {},
   "outputs": [],
   "source": [
    "import pandas as pd\n",
    "import numpy as np\n",
    "import matplotlib.pyplot as plt\n",
    "from ISLP import load_data\n",
    "from statsmodels.stats.multitest import multipletests\n",
    "import statsmodels.api as sm\n",
    "pd.set_option('display.float_format', '{:.10f}'.format)\n"
   ]
  },
  {
   "cell_type": "code",
   "execution_count": 61,
   "id": "e15cfb63-2ca0-4d9c-b413-d3e41557d89c",
   "metadata": {},
   "outputs": [
    {
     "name": "stdout",
     "output_type": "stream",
     "text": [
      "          Sales  CompPrice  Income  Advertising  Population  Price ShelveLoc  \\\n",
      "0  9.5000000000        138      73           11         276    120       Bad   \n",
      "1 11.2200000000        111      48           16         260     83      Good   \n",
      "2 10.0600000000        113      35           10         269     80    Medium   \n",
      "3  7.4000000000        117     100            4         466     97    Medium   \n",
      "4  4.1500000000        141      64            3         340    128       Bad   \n",
      "\n",
      "   Age  Education Urban   US  \n",
      "0   42         17   Yes  Yes  \n",
      "1   65         10   Yes  Yes  \n",
      "2   59         12   Yes  Yes  \n",
      "3   55         14   Yes  Yes  \n",
      "4   38         13   Yes   No  \n",
      "Sales           float64\n",
      "CompPrice         int64\n",
      "Income            int64\n",
      "Advertising       int64\n",
      "Population        int64\n",
      "Price             int64\n",
      "ShelveLoc      category\n",
      "Age               int64\n",
      "Education         int64\n",
      "Urban          category\n",
      "US             category\n",
      "dtype: object\n"
     ]
    }
   ],
   "source": [
    "df = load_data('Carseats')\n",
    "print(df.head())\n",
    "print(df.dtypes)"
   ]
  },
  {
   "cell_type": "markdown",
   "id": "d8f9f60b-d893-4fde-b6ea-3738d6a00e35",
   "metadata": {},
   "source": [
    "## (a) \n",
    "For each quantitative variable in the dataset besides Sales, fit  a linear model to predict Sales using that quantitative variable. Report the p-values associated with the coefficients for the variables. That is, for each model of the form Y= β0 + β1X + ϵ, report the p-value associated with the coefficient β1. Here, Yrepresents Sales and X represents one of the other quantitative variables."
   ]
  },
  {
   "cell_type": "code",
   "execution_count": 131,
   "id": "7abfb423-65db-4f6c-ac65-47c0be4b6b88",
   "metadata": {},
   "outputs": [
    {
     "name": "stdout",
     "output_type": "stream",
     "text": [
      "      Variable     p-values\n",
      "0    CompPrice 0.2009398289\n",
      "1       Income 0.0023096705\n",
      "2  Advertising 0.0000000438\n",
      "3   Population 0.3139816093\n",
      "4        Price 0.0000000000\n",
      "5          Age 0.0000027889\n",
      "6    Education 0.2999441527\n"
     ]
    }
   ],
   "source": [
    "quan_var = df.drop(['Sales','ShelveLoc', 'Urban', 'US'], axis = 1)\n",
    "y = df['Sales']\n",
    "\n",
    "    \n",
    "def linear_model(df, predictor, variable):\n",
    "    y = predictor\n",
    "    X = sm.add_constant(df[variable])\n",
    "    lm = sm.OLS(y,X).fit()\n",
    "    return lm\n",
    "    \n",
    "variables = quan_var.columns\n",
    "summary_table = pd.DataFrame()\n",
    "for variable in variables:\n",
    "    lm = linear_model(quan_var,y, variable)\n",
    "    output = pd.DataFrame({'Variable' : [variable],\n",
    "             'p-values' : [lm.pvalues.iloc[1]]})\n",
    "    summary_table = pd.concat([summary_table,output], ignore_index=True)\n",
    "\n",
    "print(summary_table)"
   ]
  },
  {
   "cell_type": "markdown",
   "id": "5f9256a5-7202-4ee1-be6a-50edcad4b994",
   "metadata": {
    "scrolled": true
   },
   "source": [
    "## (b) \n",
    "Suppose we control the Type I error at level α = 0.05 for the\n",
    "p-values obtained in (a). Which null hypotheses do we reject?"
   ]
  },
  {
   "cell_type": "code",
   "execution_count": 132,
   "id": "f5053fcd-3827-462e-b78b-61026b4bc2cc",
   "metadata": {},
   "outputs": [
    {
     "name": "stdout",
     "output_type": "stream",
     "text": [
      "The following variables have a significant effect on Sales at alpha level 0.05: 1         Income\n",
      "2    Advertising\n",
      "4          Price\n",
      "5            Age\n",
      "Name: Variable, dtype: object\n"
     ]
    }
   ],
   "source": [
    "H0_rejected = summary_table['p-values'] < 0.05\n",
    "\n",
    "print('The following variables have a significant effect on Sales at alpha level 0.05:',summary_table[H0_rejected].iloc[:,0])"
   ]
  },
  {
   "cell_type": "markdown",
   "id": "ab6618a6-ff91-4c35-8db6-c5820d2df74f",
   "metadata": {},
   "source": [
    "## (c) \n",
    "Now suppose we control the FWER at level 0.05 for the p-values.\n",
    "Which null hypotheses do we reject?"
   ]
  },
  {
   "cell_type": "code",
   "execution_count": 133,
   "id": "a5c39e37-72f1-4a3f-81be-acb59db6b106",
   "metadata": {},
   "outputs": [
    {
     "data": {
      "text/html": [
       "<div>\n",
       "<style scoped>\n",
       "    .dataframe tbody tr th:only-of-type {\n",
       "        vertical-align: middle;\n",
       "    }\n",
       "\n",
       "    .dataframe tbody tr th {\n",
       "        vertical-align: top;\n",
       "    }\n",
       "\n",
       "    .dataframe thead th {\n",
       "        text-align: right;\n",
       "    }\n",
       "</style>\n",
       "<table border=\"1\" class=\"dataframe\">\n",
       "  <thead>\n",
       "    <tr style=\"text-align: right;\">\n",
       "      <th></th>\n",
       "      <th>Variable</th>\n",
       "      <th>p-values</th>\n",
       "      <th>bon_corrected</th>\n",
       "      <th>adjusted_pvalue</th>\n",
       "    </tr>\n",
       "  </thead>\n",
       "  <tbody>\n",
       "    <tr>\n",
       "      <th>0</th>\n",
       "      <td>CompPrice</td>\n",
       "      <td>0.2009398289</td>\n",
       "      <td>False</td>\n",
       "      <td>1.0000000000</td>\n",
       "    </tr>\n",
       "    <tr>\n",
       "      <th>1</th>\n",
       "      <td>Income</td>\n",
       "      <td>0.0023096705</td>\n",
       "      <td>True</td>\n",
       "      <td>0.0161676932</td>\n",
       "    </tr>\n",
       "    <tr>\n",
       "      <th>2</th>\n",
       "      <td>Advertising</td>\n",
       "      <td>0.0000000438</td>\n",
       "      <td>True</td>\n",
       "      <td>0.0000003064</td>\n",
       "    </tr>\n",
       "    <tr>\n",
       "      <th>3</th>\n",
       "      <td>Population</td>\n",
       "      <td>0.3139816093</td>\n",
       "      <td>False</td>\n",
       "      <td>1.0000000000</td>\n",
       "    </tr>\n",
       "    <tr>\n",
       "      <th>4</th>\n",
       "      <td>Price</td>\n",
       "      <td>0.0000000000</td>\n",
       "      <td>True</td>\n",
       "      <td>0.0000000000</td>\n",
       "    </tr>\n",
       "    <tr>\n",
       "      <th>5</th>\n",
       "      <td>Age</td>\n",
       "      <td>0.0000027889</td>\n",
       "      <td>True</td>\n",
       "      <td>0.0000195226</td>\n",
       "    </tr>\n",
       "    <tr>\n",
       "      <th>6</th>\n",
       "      <td>Education</td>\n",
       "      <td>0.2999441527</td>\n",
       "      <td>False</td>\n",
       "      <td>1.0000000000</td>\n",
       "    </tr>\n",
       "  </tbody>\n",
       "</table>\n",
       "</div>"
      ],
      "text/plain": [
       "      Variable     p-values  bon_corrected  adjusted_pvalue\n",
       "0    CompPrice 0.2009398289          False     1.0000000000\n",
       "1       Income 0.0023096705           True     0.0161676932\n",
       "2  Advertising 0.0000000438           True     0.0000003064\n",
       "3   Population 0.3139816093          False     1.0000000000\n",
       "4        Price 0.0000000000           True     0.0000000000\n",
       "5          Age 0.0000027889           True     0.0000195226\n",
       "6    Education 0.2999441527          False     1.0000000000"
      ]
     },
     "execution_count": 133,
     "metadata": {},
     "output_type": "execute_result"
    }
   ],
   "source": [
    "# correct for multiple testing using bonferroni\n",
    "p_adjusted = multipletests(summary_table['p-values'],alpha = 0.05, method='bonferroni')\n",
    "summary_table['bon_corrected'] = p_adjusted[0]  \n",
    "summary_table['adjusted_pvalue'] = p_adjusted[1]\n",
    "\n",
    "summary_table"
   ]
  },
  {
   "cell_type": "markdown",
   "id": "494d153c-3f8d-48c0-be00-6f3b0cc560e5",
   "metadata": {},
   "source": [
    "## (d)\n",
    "Finally, suppose we control the FDR at level 0.2 for the p-values.\n",
    "Which null hypotheses do we reject?"
   ]
  },
  {
   "cell_type": "code",
   "execution_count": 134,
   "id": "a20b4ed4-70e8-4f1c-9b8f-6dc7db65a286",
   "metadata": {},
   "outputs": [
    {
     "data": {
      "text/html": [
       "<div>\n",
       "<style scoped>\n",
       "    .dataframe tbody tr th:only-of-type {\n",
       "        vertical-align: middle;\n",
       "    }\n",
       "\n",
       "    .dataframe tbody tr th {\n",
       "        vertical-align: top;\n",
       "    }\n",
       "\n",
       "    .dataframe thead th {\n",
       "        text-align: right;\n",
       "    }\n",
       "</style>\n",
       "<table border=\"1\" class=\"dataframe\">\n",
       "  <thead>\n",
       "    <tr style=\"text-align: right;\">\n",
       "      <th></th>\n",
       "      <th>Variable</th>\n",
       "      <th>p-values</th>\n",
       "      <th>bon_corrected</th>\n",
       "      <th>adjusted_pvalue</th>\n",
       "      <th>fdr_corrected</th>\n",
       "      <th>adjusted_fdr_pvalue</th>\n",
       "    </tr>\n",
       "  </thead>\n",
       "  <tbody>\n",
       "    <tr>\n",
       "      <th>0</th>\n",
       "      <td>CompPrice</td>\n",
       "      <td>0.2009398289</td>\n",
       "      <td>False</td>\n",
       "      <td>1.0000000000</td>\n",
       "      <td>False</td>\n",
       "      <td>0.2813157605</td>\n",
       "    </tr>\n",
       "    <tr>\n",
       "      <th>1</th>\n",
       "      <td>Income</td>\n",
       "      <td>0.0023096705</td>\n",
       "      <td>True</td>\n",
       "      <td>0.0161676932</td>\n",
       "      <td>True</td>\n",
       "      <td>0.0040419233</td>\n",
       "    </tr>\n",
       "    <tr>\n",
       "      <th>2</th>\n",
       "      <td>Advertising</td>\n",
       "      <td>0.0000000438</td>\n",
       "      <td>True</td>\n",
       "      <td>0.0000003064</td>\n",
       "      <td>True</td>\n",
       "      <td>0.0000001532</td>\n",
       "    </tr>\n",
       "    <tr>\n",
       "      <th>3</th>\n",
       "      <td>Population</td>\n",
       "      <td>0.3139816093</td>\n",
       "      <td>False</td>\n",
       "      <td>1.0000000000</td>\n",
       "      <td>False</td>\n",
       "      <td>0.3139816093</td>\n",
       "    </tr>\n",
       "    <tr>\n",
       "      <th>4</th>\n",
       "      <td>Price</td>\n",
       "      <td>0.0000000000</td>\n",
       "      <td>True</td>\n",
       "      <td>0.0000000000</td>\n",
       "      <td>True</td>\n",
       "      <td>0.0000000000</td>\n",
       "    </tr>\n",
       "    <tr>\n",
       "      <th>5</th>\n",
       "      <td>Age</td>\n",
       "      <td>0.0000027889</td>\n",
       "      <td>True</td>\n",
       "      <td>0.0000195226</td>\n",
       "      <td>True</td>\n",
       "      <td>0.0000065075</td>\n",
       "    </tr>\n",
       "    <tr>\n",
       "      <th>6</th>\n",
       "      <td>Education</td>\n",
       "      <td>0.2999441527</td>\n",
       "      <td>False</td>\n",
       "      <td>1.0000000000</td>\n",
       "      <td>False</td>\n",
       "      <td>0.3139816093</td>\n",
       "    </tr>\n",
       "  </tbody>\n",
       "</table>\n",
       "</div>"
      ],
      "text/plain": [
       "      Variable     p-values  bon_corrected  adjusted_pvalue  fdr_corrected  \\\n",
       "0    CompPrice 0.2009398289          False     1.0000000000          False   \n",
       "1       Income 0.0023096705           True     0.0161676932           True   \n",
       "2  Advertising 0.0000000438           True     0.0000003064           True   \n",
       "3   Population 0.3139816093          False     1.0000000000          False   \n",
       "4        Price 0.0000000000           True     0.0000000000           True   \n",
       "5          Age 0.0000027889           True     0.0000195226           True   \n",
       "6    Education 0.2999441527          False     1.0000000000          False   \n",
       "\n",
       "   adjusted_fdr_pvalue  \n",
       "0         0.2813157605  \n",
       "1         0.0040419233  \n",
       "2         0.0000001532  \n",
       "3         0.3139816093  \n",
       "4         0.0000000000  \n",
       "5         0.0000065075  \n",
       "6         0.3139816093  "
      ]
     },
     "execution_count": 134,
     "metadata": {},
     "output_type": "execute_result"
    }
   ],
   "source": [
    "p_fdr_adjusted = multipletests(summary_table['p-values'],alpha = 0.05, method='fdr_bh')\n",
    "summary_table['fdr_corrected'] = p_fdr_adjusted[0]  \n",
    "summary_table['adjusted_fdr_pvalue'] = p_fdr_adjusted[1]\n",
    "\n",
    "summary_table"
   ]
  }
 ],
 "metadata": {
  "kernelspec": {
   "display_name": "Python 3 (ipykernel)",
   "language": "python",
   "name": "python3"
  },
  "language_info": {
   "codemirror_mode": {
    "name": "ipython",
    "version": 3
   },
   "file_extension": ".py",
   "mimetype": "text/x-python",
   "name": "python",
   "nbconvert_exporter": "python",
   "pygments_lexer": "ipython3",
   "version": "3.12.8"
  }
 },
 "nbformat": 4,
 "nbformat_minor": 5
}
