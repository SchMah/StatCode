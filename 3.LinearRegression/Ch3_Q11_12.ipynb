{
 "cells": [
  {
   "cell_type": "markdown",
   "id": "dd74ba05-b0d1-4db5-8d21-a42db85f160f",
   "metadata": {},
   "source": [
    "In this problem we will investigate the t-statistic for the null hypothesis H0 : β = 0 in simple linear regression without an intercept. To begin, we generate a predictor x and a response y as follows.\n",
    "\n",
    "$rng = np.random. default_rng (1)$\n",
    "\n",
    "$x = rng.normal(size =100)$\n",
    "\n",
    "$y = 2 * x + rng.normal(size =100)$\n",
    "\n",
    "(a) Perform a simple linear regression of y onto x, without an intercept. Report the coefficient estimateˆβ, the standard error of this coefficient estimate, and the t-statistic and p-value associated with the null hypothesis H0 : β = 0. Comment on these results. (You can perform regression without an intercept using the keywords argument intercept=False to ModelSpec()"
   ]
  },
  {
   "cell_type": "code",
   "execution_count": 12,
   "id": "723f5478-f3ef-4e2e-8c31-5f43281998c7",
   "metadata": {},
   "outputs": [],
   "source": [
    "import os\n",
    "import numpy as np\n",
    "import statsmodels.api as sm\n",
    "import matplotlib.pyplot as plt"
   ]
  },
  {
   "cell_type": "markdown",
   "id": "e74d2ceb-d9ce-40a9-836c-0103600145e2",
   "metadata": {},
   "source": []
  },
  {
   "cell_type": "code",
   "execution_count": 21,
   "id": "8a5de4fd-cbc0-4833-9cda-fdfe239d21b7",
   "metadata": {},
   "outputs": [
    {
     "name": "stdout",
     "output_type": "stream",
     "text": [
      "                                 OLS Regression Results                                \n",
      "=======================================================================================\n",
      "Dep. Variable:                      y   R-squared (uncentered):                   0.743\n",
      "Model:                            OLS   Adj. R-squared (uncentered):              0.740\n",
      "Method:                 Least Squares   F-statistic:                              285.6\n",
      "Date:                Fri, 21 Feb 2025   Prob (F-statistic):                    6.23e-31\n",
      "Time:                        22:20:46   Log-Likelihood:                         -141.35\n",
      "No. Observations:                 100   AIC:                                      284.7\n",
      "Df Residuals:                      99   BIC:                                      287.3\n",
      "Df Model:                           1                                                  \n",
      "Covariance Type:            nonrobust                                                  \n",
      "==============================================================================\n",
      "                 coef    std err          t      P>|t|      [0.025      0.975]\n",
      "------------------------------------------------------------------------------\n",
      "x1             1.9762      0.117     16.898      0.000       1.744       2.208\n",
      "==============================================================================\n",
      "Omnibus:                        1.376   Durbin-Watson:                   2.184\n",
      "Prob(Omnibus):                  0.503   Jarque-Bera (JB):                0.847\n",
      "Skew:                           0.121   Prob(JB):                        0.655\n",
      "Kurtosis:                       3.381   Cond. No.                         1.00\n",
      "==============================================================================\n",
      "\n",
      "Notes:\n",
      "[1] R² is computed without centering (uncentered) since the model does not contain a constant.\n",
      "[2] Standard Errors assume that the covariance matrix of the errors is correctly specified.\n"
     ]
    },
    {
     "data": {
      "text/plain": [
       "Text(0, 0.5, 'y')"
      ]
     },
     "execution_count": 21,
     "metadata": {},
     "output_type": "execute_result"
    },
    {
     "data": {
      "image/png": "[encoded data removed]",
      "text/plain": [
       "<Figure size 400x400 with 1 Axes>"
      ]
     },
     "metadata": {},
     "output_type": "display_data"
    }
   ],
   "source": [
    "# (a) simple linear regression without intercept\n",
    "rng = np.random. default_rng (1)\n",
    "x = rng.normal(size =100)\n",
    "y = 2 * x + rng.normal(size =100)\n",
    "results = sm.OLS(y, x).fit()\n",
    "print(results.summary())\n",
    "\n",
    "fig, ax = plt.subplots(figsize = (4,4))\n",
    "ax.scatter(x, y, alpha = 0.3)\n",
    "ax.set_xlabel('x')\n",
    "ax.set_ylabel('y')"
   ]
  },
  {
   "cell_type": "markdown",
   "id": "48bb3efc-8ff3-45f6-9c8e-e78ed3f21315",
   "metadata": {},
   "source": [
    "**(a)** Report the coefficient estimateˆβ, the standard error of this coefficient estimate, and the t-statistic and p-value associated with the null hypothesis H0 : β = 0. Comment on these results. \n",
    "\n",
    "coefficient estimate: 1.92, std err: 0.11 t-value: 16.89, p < 0.001 \n",
    "\n",
    "\n",
    "**(b)** Now perform a simple linear regression ofx onto y without an intercept, and report the coefficient estimate, its standard error, and the corresponding t-statistic and p-values associated with the null hypothesis H0 : β = 0. Comment on these results."
   ]
  },
  {
   "cell_type": "code",
   "execution_count": 22,
   "id": "999b1bc4-e9dd-4597-b54d-226e480df90e",
   "metadata": {},
   "outputs": [
    {
     "name": "stdout",
     "output_type": "stream",
     "text": [
      "                                 OLS Regression Results                                \n",
      "=======================================================================================\n",
      "Dep. Variable:                      y   R-squared (uncentered):                   0.743\n",
      "Model:                            OLS   Adj. R-squared (uncentered):              0.740\n",
      "Method:                 Least Squares   F-statistic:                              285.6\n",
      "Date:                Fri, 21 Feb 2025   Prob (F-statistic):                    6.23e-31\n",
      "Time:                        22:21:01   Log-Likelihood:                         -58.349\n",
      "No. Observations:                 100   AIC:                                      118.7\n",
      "Df Residuals:                      99   BIC:                                      121.3\n",
      "Df Model:                           1                                                  \n",
      "Covariance Type:            nonrobust                                                  \n",
      "==============================================================================\n",
      "                 coef    std err          t      P>|t|      [0.025      0.975]\n",
      "------------------------------------------------------------------------------\n",
      "x1             0.3757      0.022     16.898      0.000       0.332       0.420\n",
      "==============================================================================\n",
      "Omnibus:                       13.156   Durbin-Watson:                   2.034\n",
      "Prob(Omnibus):                  0.001   Jarque-Bera (JB):               22.596\n",
      "Skew:                          -0.528   Prob(JB):                     1.24e-05\n",
      "Kurtosis:                       5.075   Cond. No.                         1.00\n",
      "==============================================================================\n",
      "\n",
      "Notes:\n",
      "[1] R² is computed without centering (uncentered) since the model does not contain a constant.\n",
      "[2] Standard Errors assume that the covariance matrix of the errors is correctly specified.\n"
     ]
    }
   ],
   "source": [
    "results_two = sm.OLS(x,y).fit()\n",
    "print(results_two.summary())"
   ]
  },
  {
   "cell_type": "markdown",
   "id": "fd1ccf3b-e3e7-4b7b-96d6-9c59f10fc680",
   "metadata": {},
   "source": [
    "**(c)** What is the relationship between the results obtained in (a) and (b)?\n",
    "The t-value and statistical significance remain unchanged. However, the beta coefficient has changed because of the inverse relationship. The second coefficient is close to inverse of the first one.\n",
    "\n",
    "**(f)** In R, show that when regression is performed with an intercept, the t-statistic for H0 : β1 = 0 is the same for the regression of y onto x as it is for the regression of x onto y."
   ]
  },
  {
   "cell_type": "code",
   "execution_count": 28,
   "id": "41bec604-ed7c-4e96-b00b-a470ef38d30a",
   "metadata": {},
   "outputs": [
    {
     "name": "stdout",
     "output_type": "stream",
     "text": [
      "T-values:\n",
      " [-0.75609623 16.7340552 ]\n",
      "T-values:\n",
      " [ 0.21608182 16.7340552 ]\n"
     ]
    }
   ],
   "source": [
    "# regression with intercept\n",
    "X = sm.add_constant(x)\n",
    "results_yx = sm.OLS(y,X).fit()\n",
    "print(\"T-values:\\n\", results_yx.tvalues)\n",
    "\n",
    "Y = sm.add_constant(y)\n",
    "results_xy = sm.OLS(x, Y).fit()\n",
    "print(\"T-values:\\n\", results_xy.tvalues)\n"
   ]
  },
  {
   "cell_type": "markdown",
   "id": "090d3a9d-0be1-4b58-ae17-b2ec6d0052b9",
   "metadata": {},
   "source": [
    "**Q12**\n",
    "Y_1 = beta_1 * X_1\n",
    "X_1 = beta_2 * Y_1\n",
    "if beta_1 = beta_2 , beta_2 = X_1/ Y_1 , Y_1 = X_1/Y_1 * Y_1 ----> Y_1 = X_1\n",
    "\n",
    "**(b)** \n",
    "Generate an example in Python with n = 100 observations in which the coefficient estimate for the regression of X onto Y is different from the coefficient estimate for the regression of Y onto X."
   ]
  },
  {
   "cell_type": "code",
   "execution_count": null,
   "id": "433c59c1-857c-4223-9950-dc3556c3119b",
   "metadata": {},
   "outputs": [],
   "source": []
  }
 ],
 "metadata": {
  "kernelspec": {
   "display_name": "Python 3 (ipykernel)",
   "language": "python",
   "name": "python3"
  },
  "language_info": {
   "codemirror_mode": {
    "name": "ipython",
    "version": 3
   },
   "file_extension": ".py",
   "mimetype": "text/x-python",
   "name": "python",
   "nbconvert_exporter": "python",
   "pygments_lexer": "ipython3",
   "version": "3.12.8"
  }
 },
 "nbformat": 4,
 "nbformat_minor": 5
}
