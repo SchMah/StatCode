{
 "cells": [
  {
   "cell_type": "code",
   "execution_count": 39,
   "id": "87afb4cb-8881-4abb-bd43-eea2922f47bc",
   "metadata": {},
   "outputs": [],
   "source": [
    "import os\n",
    "import numpy as np\n",
    "import pandas as pd\n",
    "from ISLP import load_data\n",
    "import matplotlib.pyplot as plt\n",
    "import statsmodels.api as sm"
   ]
  },
  {
   "cell_type": "code",
   "execution_count": 9,
   "id": "b25efa3a-90df-44e8-bea1-c690058a7730",
   "metadata": {},
   "outputs": [
    {
     "data": {
      "text/plain": [
       "Text(0, 0.5, 'y')"
      ]
     },
     "execution_count": 9,
     "metadata": {},
     "output_type": "execute_result"
    },
    {
     "data": {
      "image/png": "[encoded data removed]",
      "text/plain": [
       "<Figure size 400x400 with 1 Axes>"
      ]
     },
     "metadata": {},
     "output_type": "display_data"
    }
   ],
   "source": [
    "# (a) Generatea simulated data\n",
    "rng = np.random.default_rng(1)\n",
    "x = rng.normal(size = 100)\n",
    "y = x - 2 * x**2 + rng.normal(size=100)\n",
    "# (b) Scatter plot of X againts Y\n",
    "fig, ax = plt.subplots(figsize = (4,4))\n",
    "ax.scatter(x,y)\n",
    "ax.set_xlabel('x')\n",
    "ax.set_ylabel('y')"
   ]
  },
  {
   "cell_type": "code",
   "execution_count": 53,
   "id": "aa03df29-df37-419b-9aa2-4e8332c7530c",
   "metadata": {},
   "outputs": [
    {
     "name": "stdout",
     "output_type": "stream",
     "text": [
      "LOOCV error for model 1 is: 6.6330\n",
      "LOOCV error for model 2 is: 1.1229\n",
      "LOOCV error for model 3 is: 1.3018\n",
      "LOOCV error for model 4 is: 1.3324\n"
     ]
    }
   ],
   "source": [
    "np.random.seed(42)\n",
    "data = pd.DataFrame({'y':y , 'x':x})\n",
    "data['x2'] = data['x']**2\n",
    "data['x3'] = data['x']**3\n",
    "data['x4'] = data['x']**4\n",
    "\n",
    "def fit_least_square(data, predictor, response, index, error):\n",
    "    data_train = data.drop(index=i)\n",
    "    x = data_train[predictor]\n",
    "    y = data_train[response]\n",
    "    X_train = sm.add_constant(x)\n",
    "    model_OLS = sm.OLS(y, X_train).fit()\n",
    "    \n",
    "    x_test = data[predictor].iloc[[index],:]\n",
    "    X_test = sm.add_constant(x_test,has_constant='add')\n",
    "    y_predict = model_OLS.predict(X_test)\n",
    "    #iv\n",
    "    y_actual = data[response].iloc[index]\n",
    "    error_pred = (y_predict.iloc[0] - y_actual)**2\n",
    "    error.append(error_pred)\n",
    "    LOOCV_error_rate = np.mean(error)\n",
    "    return LOOCV_error_rate\n",
    "\n",
    "\n",
    "error_1 = []\n",
    "error_2 = []\n",
    "error_3 = []\n",
    "error_4 = []\n",
    "for i in range(len(data)):\n",
    "    LOOCV_err_1 = fit_least_square(data, ['x'], 'y', i, error_1)\n",
    "    LOOCV_err_2 = fit_least_square(data, ['x','x2'], 'y', i, error_2)\n",
    "    LOOCV_err_3 = fit_least_square(data, ['x','x2','x3'], 'y', i, error_3)\n",
    "    LOOCV_err_4 = fit_least_square(data, ['x','x2','x3','x4'], 'y', i, error_4)\n",
    "\n",
    "\n",
    "\n",
    "print(f\"LOOCV error for model 1 is: {LOOCV_err_1:0.4f}\")    \n",
    "print(f\"LOOCV error for model 2 is: {LOOCV_err_2:0.4f}\")    \n",
    "print(f\"LOOCV error for model 3 is: {LOOCV_err_3:0.4f}\")    \n",
    "print(f\"LOOCV error for model 4 is: {LOOCV_err_4:0.4f}\")    \n",
    "\n",
    "    "
   ]
  },
  {
   "cell_type": "code",
   "execution_count": 56,
   "id": "7fedce24-a7da-4406-899a-846524c98638",
   "metadata": {},
   "outputs": [
    {
     "name": "stdout",
     "output_type": "stream",
     "text": [
      "LOOCV error for model 1 is: 6.6330\n",
      "LOOCV error for model 2 is: 1.1229\n",
      "LOOCV error for model 3 is: 1.3018\n",
      "LOOCV error for model 4 is: 1.3324\n"
     ]
    }
   ],
   "source": [
    "# (d)\n",
    "np.random.seed(5)\n",
    "for i in range(len(data)):\n",
    "    LOOCV_err_1 = fit_least_square(data, ['x'], 'y', i, error_1)\n",
    "    LOOCV_err_2 = fit_least_square(data, ['x','x2'], 'y', i, error_2)\n",
    "    LOOCV_err_3 = fit_least_square(data, ['x','x2','x3'], 'y', i, error_3)\n",
    "    LOOCV_err_4 = fit_least_square(data, ['x','x2','x3','x4'], 'y', i, error_4)\n",
    "\n",
    "\n",
    "\n",
    "print(f\"LOOCV error for model 1 is: {LOOCV_err_1:0.4f}\")    \n",
    "print(f\"LOOCV error for model 2 is: {LOOCV_err_2:0.4f}\")    \n",
    "print(f\"LOOCV error for model 3 is: {LOOCV_err_3:0.4f}\")    \n",
    "print(f\"LOOCV error for model 4 is: {LOOCV_err_4:0.4f}\")    "
   ]
  },
  {
   "cell_type": "code",
   "execution_count": 57,
   "id": "a3744a5f-5121-46b5-b7cc-9457814762fd",
   "metadata": {},
   "outputs": [],
   "source": [
    "#(e) which model has the smallest LOOCV?\n",
    "# model 2. it is expected. Because this si the model that data were generated\n"
   ]
  },
  {
   "cell_type": "code",
   "execution_count": 104,
   "id": "697b0318-596a-49ba-8546-267ca6e91a7e",
   "metadata": {},
   "outputs": [
    {
     "name": "stdout",
     "output_type": "stream",
     "text": [
      "          coeff       pvalues\n",
      "const -1.464963  4.409621e-08\n",
      "x      1.949369  1.036506e-09\n",
      "          coeff       pvalues\n",
      "const -0.072755  5.428243e-01\n",
      "x      0.966273  1.494913e-11\n",
      "x2    -2.004709  1.340068e-39\n",
      "          coeff       pvalues\n",
      "const -0.057197  6.345015e-01\n",
      "x      1.114584  4.448516e-08\n",
      "x2    -2.047094  3.968906e-37\n",
      "x3    -0.064300  2.872018e-01\n",
      "          coeff       pvalues\n",
      "const  0.100848  4.596053e-01\n",
      "x      0.904998  2.591296e-05\n",
      "x2    -2.505923  2.396026e-19\n",
      "x3     0.033768  6.424910e-01\n",
      "x4     0.104217  2.310661e-02\n"
     ]
    }
   ],
   "source": [
    "# (f)\n",
    "\n",
    "X = sm.add_constant(data[['x','x2','x3','x4']])\n",
    "y = data['y']\n",
    "\n",
    "for i in range(1,np.shape(X)[1]):\n",
    "    model_fit = sm.OLS(y,X.iloc[:, 0:i+1]).fit()\n",
    "    out = {'coeff' : model_fit.params, 'pvalues': model_fit.pvalues}\n",
    "    print(pd.DataFrame(out))\n"
   ]
  }
 ],
 "metadata": {
  "kernelspec": {
   "display_name": "Python 3 (ipykernel)",
   "language": "python",
   "name": "python3"
  },
  "language_info": {
   "codemirror_mode": {
    "name": "ipython",
    "version": 3
   },
   "file_extension": ".py",
   "mimetype": "text/x-python",
   "name": "python",
   "nbconvert_exporter": "python",
   "pygments_lexer": "ipython3",
   "version": "3.12.8"
  }
 },
 "nbformat": 4,
 "nbformat_minor": 5
}
