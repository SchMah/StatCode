{
 "cells": [
  {
   "cell_type": "code",
   "execution_count": 1,
   "id": "0b6255a8-e49b-424e-8aa3-0e1c3e16ff2f",
   "metadata": {},
   "outputs": [],
   "source": [
    "import os \n",
    "import numpy as np\n",
    "import pandas as pd\n",
    "import matplotlib.pyplot as plt\n",
    "from ISLP import load_data\n",
    "import statsmodels.api as sm\n",
    "from sklearn.metrics import accuracy_score\n",
    "from sklearn.model_selection import cross_validate"
   ]
  },
  {
   "cell_type": "code",
   "execution_count": 36,
   "id": "66c10f14-586c-4258-ab00-decf9365bf99",
   "metadata": {},
   "outputs": [
    {
     "data": {
      "text/html": [
       "<table class=\"simpletable\">\n",
       "<caption>Generalized Linear Model Regression Results</caption>\n",
       "<tr>\n",
       "  <th>Dep. Variable:</th>      <td>Direction01</td>   <th>  No. Observations:  </th>  <td>  1089</td> \n",
       "</tr>\n",
       "<tr>\n",
       "  <th>Model:</th>                  <td>GLM</td>       <th>  Df Residuals:      </th>  <td>  1086</td> \n",
       "</tr>\n",
       "<tr>\n",
       "  <th>Model Family:</th>        <td>Binomial</td>     <th>  Df Model:          </th>  <td>     2</td> \n",
       "</tr>\n",
       "<tr>\n",
       "  <th>Link Function:</th>         <td>Logit</td>      <th>  Scale:             </th> <td>  1.0000</td>\n",
       "</tr>\n",
       "<tr>\n",
       "  <th>Method:</th>                <td>IRLS</td>       <th>  Log-Likelihood:    </th> <td> -744.11</td>\n",
       "</tr>\n",
       "<tr>\n",
       "  <th>Date:</th>            <td>Tue, 25 Feb 2025</td> <th>  Deviance:          </th> <td>  1488.2</td>\n",
       "</tr>\n",
       "<tr>\n",
       "  <th>Time:</th>                <td>16:24:32</td>     <th>  Pearson chi2:      </th> <td>1.09e+03</td>\n",
       "</tr>\n",
       "<tr>\n",
       "  <th>No. Iterations:</th>          <td>4</td>        <th>  Pseudo R-squ. (CS):</th> <td>0.007303</td>\n",
       "</tr>\n",
       "<tr>\n",
       "  <th>Covariance Type:</th>     <td>nonrobust</td>    <th>                     </th>     <td> </td>   \n",
       "</tr>\n",
       "</table>\n",
       "<table class=\"simpletable\">\n",
       "<tr>\n",
       "    <td></td>       <th>coef</th>     <th>std err</th>      <th>z</th>      <th>P>|z|</th>  <th>[0.025</th>    <th>0.975]</th>  \n",
       "</tr>\n",
       "<tr>\n",
       "  <th>const</th> <td>    0.2212</td> <td>    0.061</td> <td>    3.599</td> <td> 0.000</td> <td>    0.101</td> <td>    0.342</td>\n",
       "</tr>\n",
       "<tr>\n",
       "  <th>Lag1</th>  <td>   -0.0387</td> <td>    0.026</td> <td>   -1.477</td> <td> 0.140</td> <td>   -0.090</td> <td>    0.013</td>\n",
       "</tr>\n",
       "<tr>\n",
       "  <th>Lag2</th>  <td>    0.0602</td> <td>    0.027</td> <td>    2.270</td> <td> 0.023</td> <td>    0.008</td> <td>    0.112</td>\n",
       "</tr>\n",
       "</table>"
      ],
      "text/latex": [
       "\\begin{center}\n",
       "\\begin{tabular}{lclc}\n",
       "\\toprule\n",
       "\\textbf{Dep. Variable:}   &   Direction01    & \\textbf{  No. Observations:  } &     1089    \\\\\n",
       "\\textbf{Model:}           &       GLM        & \\textbf{  Df Residuals:      } &     1086    \\\\\n",
       "\\textbf{Model Family:}    &     Binomial     & \\textbf{  Df Model:          } &        2    \\\\\n",
       "\\textbf{Link Function:}   &      Logit       & \\textbf{  Scale:             } &    1.0000   \\\\\n",
       "\\textbf{Method:}          &       IRLS       & \\textbf{  Log-Likelihood:    } &   -744.11   \\\\\n",
       "\\textbf{Date:}            & Tue, 25 Feb 2025 & \\textbf{  Deviance:          } &    1488.2   \\\\\n",
       "\\textbf{Time:}            &     16:24:32     & \\textbf{  Pearson chi2:      } &  1.09e+03   \\\\\n",
       "\\textbf{No. Iterations:}  &        4         & \\textbf{  Pseudo R-squ. (CS):} &  0.007303   \\\\\n",
       "\\textbf{Covariance Type:} &    nonrobust     & \\textbf{                     } &             \\\\\n",
       "\\bottomrule\n",
       "\\end{tabular}\n",
       "\\begin{tabular}{lcccccc}\n",
       "               & \\textbf{coef} & \\textbf{std err} & \\textbf{z} & \\textbf{P$> |$z$|$} & \\textbf{[0.025} & \\textbf{0.975]}  \\\\\n",
       "\\midrule\n",
       "\\textbf{const} &       0.2212  &        0.061     &     3.599  &         0.000        &        0.101    &        0.342     \\\\\n",
       "\\textbf{Lag1}  &      -0.0387  &        0.026     &    -1.477  &         0.140        &       -0.090    &        0.013     \\\\\n",
       "\\textbf{Lag2}  &       0.0602  &        0.027     &     2.270  &         0.023        &        0.008    &        0.112     \\\\\n",
       "\\bottomrule\n",
       "\\end{tabular}\n",
       "%\\caption{Generalized Linear Model Regression Results}\n",
       "\\end{center}"
      ],
      "text/plain": [
       "<class 'statsmodels.iolib.summary.Summary'>\n",
       "\"\"\"\n",
       "                 Generalized Linear Model Regression Results                  \n",
       "==============================================================================\n",
       "Dep. Variable:            Direction01   No. Observations:                 1089\n",
       "Model:                            GLM   Df Residuals:                     1086\n",
       "Model Family:                Binomial   Df Model:                            2\n",
       "Link Function:                  Logit   Scale:                          1.0000\n",
       "Method:                          IRLS   Log-Likelihood:                -744.11\n",
       "Date:                Tue, 25 Feb 2025   Deviance:                       1488.2\n",
       "Time:                        16:24:32   Pearson chi2:                 1.09e+03\n",
       "No. Iterations:                     4   Pseudo R-squ. (CS):           0.007303\n",
       "Covariance Type:            nonrobust                                         \n",
       "==============================================================================\n",
       "                 coef    std err          z      P>|z|      [0.025      0.975]\n",
       "------------------------------------------------------------------------------\n",
       "const          0.2212      0.061      3.599      0.000       0.101       0.342\n",
       "Lag1          -0.0387      0.026     -1.477      0.140      -0.090       0.013\n",
       "Lag2           0.0602      0.027      2.270      0.023       0.008       0.112\n",
       "==============================================================================\n",
       "\"\"\""
      ]
     },
     "execution_count": 36,
     "metadata": {},
     "output_type": "execute_result"
    }
   ],
   "source": [
    "weekly = load_data('Weekly')\n",
    "weekly = pd.DataFrame(weekly)\n",
    "weekly.head()\n",
    "\n",
    "### fit the model\n",
    "x = weekly[['Lag1','Lag2']]\n",
    "X_train = sm.add_constant(x)\n",
    "# binarize Direction column\n",
    "weekly['Direction01']= weekly['Direction'].map({'Up':1, 'Down':0})\n",
    "y = weekly['Direction01']\n",
    "model_logistic = sm.GLM(y, X_train, family = sm.families.Binomial()).fit()\n",
    "model_logistic.summary()"
   ]
  },
  {
   "cell_type": "code",
   "execution_count": 43,
   "id": "ee6af433-c6ac-477d-b050-77727afef386",
   "metadata": {},
   "outputs": [
    {
     "data": {
      "text/html": [
       "<table class=\"simpletable\">\n",
       "<caption>Generalized Linear Model Regression Results</caption>\n",
       "<tr>\n",
       "  <th>Dep. Variable:</th>      <td>Direction01</td>   <th>  No. Observations:  </th>  <td>  1088</td> \n",
       "</tr>\n",
       "<tr>\n",
       "  <th>Model:</th>                  <td>GLM</td>       <th>  Df Residuals:      </th>  <td>  1085</td> \n",
       "</tr>\n",
       "<tr>\n",
       "  <th>Model Family:</th>        <td>Binomial</td>     <th>  Df Model:          </th>  <td>     2</td> \n",
       "</tr>\n",
       "<tr>\n",
       "  <th>Link Function:</th>         <td>Logit</td>      <th>  Scale:             </th> <td>  1.0000</td>\n",
       "</tr>\n",
       "<tr>\n",
       "  <th>Method:</th>                <td>IRLS</td>       <th>  Log-Likelihood:    </th> <td> -743.26</td>\n",
       "</tr>\n",
       "<tr>\n",
       "  <th>Date:</th>            <td>Tue, 25 Feb 2025</td> <th>  Deviance:          </th> <td>  1486.5</td>\n",
       "</tr>\n",
       "<tr>\n",
       "  <th>Time:</th>                <td>16:26:27</td>     <th>  Pearson chi2:      </th> <td>1.09e+03</td>\n",
       "</tr>\n",
       "<tr>\n",
       "  <th>No. Iterations:</th>          <td>4</td>        <th>  Pseudo R-squ. (CS):</th> <td>0.007373</td>\n",
       "</tr>\n",
       "<tr>\n",
       "  <th>Covariance Type:</th>     <td>nonrobust</td>    <th>                     </th>     <td> </td>   \n",
       "</tr>\n",
       "</table>\n",
       "<table class=\"simpletable\">\n",
       "<tr>\n",
       "    <td></td>       <th>coef</th>     <th>std err</th>      <th>z</th>      <th>P>|z|</th>  <th>[0.025</th>    <th>0.975]</th>  \n",
       "</tr>\n",
       "<tr>\n",
       "  <th>const</th> <td>    0.2232</td> <td>    0.061</td> <td>    3.630</td> <td> 0.000</td> <td>    0.103</td> <td>    0.344</td>\n",
       "</tr>\n",
       "<tr>\n",
       "  <th>Lag1</th>  <td>   -0.0384</td> <td>    0.026</td> <td>   -1.466</td> <td> 0.143</td> <td>   -0.090</td> <td>    0.013</td>\n",
       "</tr>\n",
       "<tr>\n",
       "  <th>Lag2</th>  <td>    0.0608</td> <td>    0.027</td> <td>    2.291</td> <td> 0.022</td> <td>    0.009</td> <td>    0.113</td>\n",
       "</tr>\n",
       "</table>"
      ],
      "text/latex": [
       "\\begin{center}\n",
       "\\begin{tabular}{lclc}\n",
       "\\toprule\n",
       "\\textbf{Dep. Variable:}   &   Direction01    & \\textbf{  No. Observations:  } &     1088    \\\\\n",
       "\\textbf{Model:}           &       GLM        & \\textbf{  Df Residuals:      } &     1085    \\\\\n",
       "\\textbf{Model Family:}    &     Binomial     & \\textbf{  Df Model:          } &        2    \\\\\n",
       "\\textbf{Link Function:}   &      Logit       & \\textbf{  Scale:             } &    1.0000   \\\\\n",
       "\\textbf{Method:}          &       IRLS       & \\textbf{  Log-Likelihood:    } &   -743.26   \\\\\n",
       "\\textbf{Date:}            & Tue, 25 Feb 2025 & \\textbf{  Deviance:          } &    1486.5   \\\\\n",
       "\\textbf{Time:}            &     16:26:27     & \\textbf{  Pearson chi2:      } &  1.09e+03   \\\\\n",
       "\\textbf{No. Iterations:}  &        4         & \\textbf{  Pseudo R-squ. (CS):} &  0.007373   \\\\\n",
       "\\textbf{Covariance Type:} &    nonrobust     & \\textbf{                     } &             \\\\\n",
       "\\bottomrule\n",
       "\\end{tabular}\n",
       "\\begin{tabular}{lcccccc}\n",
       "               & \\textbf{coef} & \\textbf{std err} & \\textbf{z} & \\textbf{P$> |$z$|$} & \\textbf{[0.025} & \\textbf{0.975]}  \\\\\n",
       "\\midrule\n",
       "\\textbf{const} &       0.2232  &        0.061     &     3.630  &         0.000        &        0.103    &        0.344     \\\\\n",
       "\\textbf{Lag1}  &      -0.0384  &        0.026     &    -1.466  &         0.143        &       -0.090    &        0.013     \\\\\n",
       "\\textbf{Lag2}  &       0.0608  &        0.027     &     2.291  &         0.022        &        0.009    &        0.113     \\\\\n",
       "\\bottomrule\n",
       "\\end{tabular}\n",
       "%\\caption{Generalized Linear Model Regression Results}\n",
       "\\end{center}"
      ],
      "text/plain": [
       "<class 'statsmodels.iolib.summary.Summary'>\n",
       "\"\"\"\n",
       "                 Generalized Linear Model Regression Results                  \n",
       "==============================================================================\n",
       "Dep. Variable:            Direction01   No. Observations:                 1088\n",
       "Model:                            GLM   Df Residuals:                     1085\n",
       "Model Family:                Binomial   Df Model:                            2\n",
       "Link Function:                  Logit   Scale:                          1.0000\n",
       "Method:                          IRLS   Log-Likelihood:                -743.26\n",
       "Date:                Tue, 25 Feb 2025   Deviance:                       1486.5\n",
       "Time:                        16:26:27   Pearson chi2:                 1.09e+03\n",
       "No. Iterations:                     4   Pseudo R-squ. (CS):           0.007373\n",
       "Covariance Type:            nonrobust                                         \n",
       "==============================================================================\n",
       "                 coef    std err          z      P>|z|      [0.025      0.975]\n",
       "------------------------------------------------------------------------------\n",
       "const          0.2232      0.061      3.630      0.000       0.103       0.344\n",
       "Lag1          -0.0384      0.026     -1.466      0.143      -0.090       0.013\n",
       "Lag2           0.0608      0.027      2.291      0.022       0.009       0.113\n",
       "==============================================================================\n",
       "\"\"\""
      ]
     },
     "execution_count": 43,
     "metadata": {},
     "output_type": "execute_result"
    }
   ],
   "source": [
    "### (b) fit the model using all but first observation\n",
    "x = weekly[['Lag1','Lag2']].iloc[1:]\n",
    "X_train = sm.add_constant(x)\n",
    "# binarize Direction column\n",
    "weekly['Direction01']= weekly['Direction'].map({'Up':1, 'Down':0})\n",
    "y = weekly['Direction01'].iloc[1:]\n",
    "model_logistic = sm.GLM(y, X_train, family = sm.families.Binomial()).fit()\n",
    "model_logistic.summary()"
   ]
  },
  {
   "cell_type": "code",
   "execution_count": 54,
   "id": "350594eb-1db7-410b-b35e-619e18ba6c3c",
   "metadata": {},
   "outputs": [
    {
     "name": "stdout",
     "output_type": "stream",
     "text": [
      "0    0.571392\n",
      "dtype: float64\n"
     ]
    }
   ],
   "source": [
    "# (c)\n",
    "x = weekly[['Lag1','Lag2']].iloc[[0],:]\n",
    "X_test = sm.add_constant(x,has_constant='add')\n",
    "y_predict = model_logistic.predict(X_test)\n",
    "print(y_predict)"
   ]
  },
  {
   "cell_type": "code",
   "execution_count": 94,
   "id": "aae4c333-1a99-4fa5-9183-e21af41318d1",
   "metadata": {},
   "outputs": [
    {
     "name": "stdout",
     "output_type": "stream",
     "text": [
      "0.44995408631772266\n"
     ]
    }
   ],
   "source": [
    "error = []\n",
    "for i in range(len(weekly)):\n",
    "    data = weekly.drop(index=i)\n",
    "    X_train = sm.add_constant(data[['Lag1','Lag2']])\n",
    "    data['Direction01'] = data['Direction'].map({'Up':1, 'Down':0})\n",
    "    model_log = sm.GLM(data['Direction01'], X_train, \n",
    "                      family = sm.families.Binomial()).fit()\n",
    "\n",
    "    # test dataset for i-th observation\n",
    "    x = weekly[['Lag1','Lag2']].iloc[[i],:]\n",
    "    X_test = sm.add_constant(x,has_constant='add')\n",
    "    y_predict = model_log.predict(X_test)\n",
    "    # iii\n",
    "    y_predict_class = (y_predict >= 0.5).astype(int)\n",
    "    #iv\n",
    "    y_actual = weekly['Direction01'].iloc[i]\n",
    "    error_pred = int(y_predict_class.iloc[0] != y_actual)\n",
    "    error.append(error_pred)\n",
    "\n",
    "LOOCV_error_rate = np.mean(error)\n",
    "print(LOOCV_error_rate)"
   ]
  }
 ],
 "metadata": {
  "kernelspec": {
   "display_name": "Python 3 (ipykernel)",
   "language": "python",
   "name": "python3"
  },
  "language_info": {
   "codemirror_mode": {
    "name": "ipython",
    "version": 3
   },
   "file_extension": ".py",
   "mimetype": "text/x-python",
   "name": "python",
   "nbconvert_exporter": "python",
   "pygments_lexer": "ipython3",
   "version": "3.12.8"
  }
 },
 "nbformat": 4,
 "nbformat_minor": 5
}
