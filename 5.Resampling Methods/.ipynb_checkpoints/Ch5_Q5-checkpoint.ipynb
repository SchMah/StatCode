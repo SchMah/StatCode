{
 "cells": [
  {
   "cell_type": "code",
   "execution_count": 1,
   "id": "9333e712-dfd5-422c-bc70-6133925859d6",
   "metadata": {},
   "outputs": [],
   "source": [
    "import os \n",
    "import numpy as np\n",
    "import pandas as pd\n",
    "import matplotlib.pyplot as plt\n",
    "from ISLP import load_data\n",
    "import statsmodels.api as sm\n",
    "from sklearn.metrics import accuracy_score\n",
    "from sklearn.model_selection import train_test_split\n",
    "from sklearn.model_selection import \\\n",
    "(cross_validate,\n",
    "ShuffleSplit, \n",
    "KFold)"
   ]
  },
  {
   "cell_type": "code",
   "execution_count": 14,
   "id": "2860cdf4-411a-4b97-ae20-4ab6cef4427b",
   "metadata": {},
   "outputs": [
    {
     "data": {
      "text/html": [
       "<div>\n",
       "<style scoped>\n",
       "    .dataframe tbody tr th:only-of-type {\n",
       "        vertical-align: middle;\n",
       "    }\n",
       "\n",
       "    .dataframe tbody tr th {\n",
       "        vertical-align: top;\n",
       "    }\n",
       "\n",
       "    .dataframe thead th {\n",
       "        text-align: right;\n",
       "    }\n",
       "</style>\n",
       "<table border=\"1\" class=\"dataframe\">\n",
       "  <thead>\n",
       "    <tr style=\"text-align: right;\">\n",
       "      <th></th>\n",
       "      <th>default</th>\n",
       "      <th>student</th>\n",
       "      <th>balance</th>\n",
       "      <th>income</th>\n",
       "    </tr>\n",
       "  </thead>\n",
       "  <tbody>\n",
       "    <tr>\n",
       "      <th>0</th>\n",
       "      <td>No</td>\n",
       "      <td>No</td>\n",
       "      <td>729.526495</td>\n",
       "      <td>44361.625074</td>\n",
       "    </tr>\n",
       "    <tr>\n",
       "      <th>1</th>\n",
       "      <td>No</td>\n",
       "      <td>Yes</td>\n",
       "      <td>817.180407</td>\n",
       "      <td>12106.134700</td>\n",
       "    </tr>\n",
       "    <tr>\n",
       "      <th>2</th>\n",
       "      <td>No</td>\n",
       "      <td>No</td>\n",
       "      <td>1073.549164</td>\n",
       "      <td>31767.138947</td>\n",
       "    </tr>\n",
       "    <tr>\n",
       "      <th>3</th>\n",
       "      <td>No</td>\n",
       "      <td>No</td>\n",
       "      <td>529.250605</td>\n",
       "      <td>35704.493935</td>\n",
       "    </tr>\n",
       "    <tr>\n",
       "      <th>4</th>\n",
       "      <td>No</td>\n",
       "      <td>No</td>\n",
       "      <td>785.655883</td>\n",
       "      <td>38463.495879</td>\n",
       "    </tr>\n",
       "  </tbody>\n",
       "</table>\n",
       "</div>"
      ],
      "text/plain": [
       "  default student      balance        income\n",
       "0      No      No   729.526495  44361.625074\n",
       "1      No     Yes   817.180407  12106.134700\n",
       "2      No      No  1073.549164  31767.138947\n",
       "3      No      No   529.250605  35704.493935\n",
       "4      No      No   785.655883  38463.495879"
      ]
     },
     "execution_count": 14,
     "metadata": {},
     "output_type": "execute_result"
    }
   ],
   "source": [
    "np.random.seed(42)\n",
    "default = load_data('Default')\n",
    "default = pd.DataFrame(default)\n",
    "default.head()\n"
   ]
  },
  {
   "cell_type": "markdown",
   "id": "973ca57a-8e3b-4955-8380-a5d53e884ebb",
   "metadata": {},
   "source": [
    "### **(A)** Fit a logistic regression model (predictors: income,balance; response: default)"
   ]
  },
  {
   "cell_type": "code",
   "execution_count": 20,
   "id": "d2615d09-fbb9-4083-aff0-f6fea47abaf7",
   "metadata": {},
   "outputs": [
    {
     "data": {
      "text/html": [
       "<table class=\"simpletable\">\n",
       "<caption>Generalized Linear Model Regression Results</caption>\n",
       "<tr>\n",
       "  <th>Dep. Variable:</th>       <td>default01</td>    <th>  No. Observations:  </th>  <td> 10000</td> \n",
       "</tr>\n",
       "<tr>\n",
       "  <th>Model:</th>                  <td>GLM</td>       <th>  Df Residuals:      </th>  <td>  9997</td> \n",
       "</tr>\n",
       "<tr>\n",
       "  <th>Model Family:</th>        <td>Binomial</td>     <th>  Df Model:          </th>  <td>     2</td> \n",
       "</tr>\n",
       "<tr>\n",
       "  <th>Link Function:</th>         <td>Logit</td>      <th>  Scale:             </th> <td>  1.0000</td>\n",
       "</tr>\n",
       "<tr>\n",
       "  <th>Method:</th>                <td>IRLS</td>       <th>  Log-Likelihood:    </th> <td> -789.48</td>\n",
       "</tr>\n",
       "<tr>\n",
       "  <th>Date:</th>            <td>Tue, 25 Feb 2025</td> <th>  Deviance:          </th> <td>  1579.0</td>\n",
       "</tr>\n",
       "<tr>\n",
       "  <th>Time:</th>                <td>13:08:33</td>     <th>  Pearson chi2:      </th> <td>6.95e+03</td>\n",
       "</tr>\n",
       "<tr>\n",
       "  <th>No. Iterations:</th>          <td>9</td>        <th>  Pseudo R-squ. (CS):</th>  <td>0.1256</td> \n",
       "</tr>\n",
       "<tr>\n",
       "  <th>Covariance Type:</th>     <td>nonrobust</td>    <th>                     </th>     <td> </td>   \n",
       "</tr>\n",
       "</table>\n",
       "<table class=\"simpletable\">\n",
       "<tr>\n",
       "     <td></td>        <th>coef</th>     <th>std err</th>      <th>z</th>      <th>P>|z|</th>  <th>[0.025</th>    <th>0.975]</th>  \n",
       "</tr>\n",
       "<tr>\n",
       "  <th>const</th>   <td>  -11.5405</td> <td>    0.435</td> <td>  -26.544</td> <td> 0.000</td> <td>  -12.393</td> <td>  -10.688</td>\n",
       "</tr>\n",
       "<tr>\n",
       "  <th>balance</th> <td>    0.0056</td> <td>    0.000</td> <td>   24.835</td> <td> 0.000</td> <td>    0.005</td> <td>    0.006</td>\n",
       "</tr>\n",
       "<tr>\n",
       "  <th>income</th>  <td> 2.081e-05</td> <td> 4.99e-06</td> <td>    4.174</td> <td> 0.000</td> <td>  1.1e-05</td> <td> 3.06e-05</td>\n",
       "</tr>\n",
       "</table>"
      ],
      "text/latex": [
       "\\begin{center}\n",
       "\\begin{tabular}{lclc}\n",
       "\\toprule\n",
       "\\textbf{Dep. Variable:}   &    default01     & \\textbf{  No. Observations:  } &    10000    \\\\\n",
       "\\textbf{Model:}           &       GLM        & \\textbf{  Df Residuals:      } &     9997    \\\\\n",
       "\\textbf{Model Family:}    &     Binomial     & \\textbf{  Df Model:          } &        2    \\\\\n",
       "\\textbf{Link Function:}   &      Logit       & \\textbf{  Scale:             } &    1.0000   \\\\\n",
       "\\textbf{Method:}          &       IRLS       & \\textbf{  Log-Likelihood:    } &   -789.48   \\\\\n",
       "\\textbf{Date:}            & Tue, 25 Feb 2025 & \\textbf{  Deviance:          } &    1579.0   \\\\\n",
       "\\textbf{Time:}            &     13:08:33     & \\textbf{  Pearson chi2:      } &  6.95e+03   \\\\\n",
       "\\textbf{No. Iterations:}  &        9         & \\textbf{  Pseudo R-squ. (CS):} &   0.1256    \\\\\n",
       "\\textbf{Covariance Type:} &    nonrobust     & \\textbf{                     } &             \\\\\n",
       "\\bottomrule\n",
       "\\end{tabular}\n",
       "\\begin{tabular}{lcccccc}\n",
       "                 & \\textbf{coef} & \\textbf{std err} & \\textbf{z} & \\textbf{P$> |$z$|$} & \\textbf{[0.025} & \\textbf{0.975]}  \\\\\n",
       "\\midrule\n",
       "\\textbf{const}   &     -11.5405  &        0.435     &   -26.544  &         0.000        &      -12.393    &      -10.688     \\\\\n",
       "\\textbf{balance} &       0.0056  &        0.000     &    24.835  &         0.000        &        0.005    &        0.006     \\\\\n",
       "\\textbf{income}  &    2.081e-05  &     4.99e-06     &     4.174  &         0.000        &      1.1e-05    &     3.06e-05     \\\\\n",
       "\\bottomrule\n",
       "\\end{tabular}\n",
       "%\\caption{Generalized Linear Model Regression Results}\n",
       "\\end{center}"
      ],
      "text/plain": [
       "<class 'statsmodels.iolib.summary.Summary'>\n",
       "\"\"\"\n",
       "                 Generalized Linear Model Regression Results                  \n",
       "==============================================================================\n",
       "Dep. Variable:              default01   No. Observations:                10000\n",
       "Model:                            GLM   Df Residuals:                     9997\n",
       "Model Family:                Binomial   Df Model:                            2\n",
       "Link Function:                  Logit   Scale:                          1.0000\n",
       "Method:                          IRLS   Log-Likelihood:                -789.48\n",
       "Date:                Tue, 25 Feb 2025   Deviance:                       1579.0\n",
       "Time:                        13:08:33   Pearson chi2:                 6.95e+03\n",
       "No. Iterations:                     9   Pseudo R-squ. (CS):             0.1256\n",
       "Covariance Type:            nonrobust                                         \n",
       "==============================================================================\n",
       "                 coef    std err          z      P>|z|      [0.025      0.975]\n",
       "------------------------------------------------------------------------------\n",
       "const        -11.5405      0.435    -26.544      0.000     -12.393     -10.688\n",
       "balance        0.0056      0.000     24.835      0.000       0.005       0.006\n",
       "income      2.081e-05   4.99e-06      4.174      0.000     1.1e-05    3.06e-05\n",
       "==============================================================================\n",
       "\"\"\""
      ]
     },
     "execution_count": 20,
     "metadata": {},
     "output_type": "execute_result"
    }
   ],
   "source": [
    "# define predictors\n",
    "x = default[['balance','income']]\n",
    "# add constant to x \n",
    "X_train = sm.add_constant(x)\n",
    "default['default01'] = default['default'].map({'Yes':1, 'No': 0})\n",
    "y_train = default['default01']\n",
    "model_logReg = sm.GLM(y_train,X_train, family = sm.families.Binomial() ).fit()\n",
    "model_logReg.summary()"
   ]
  },
  {
   "cell_type": "markdown",
   "id": "a7544b27-2f2a-42c9-8b46-71d163ffdafe",
   "metadata": {},
   "source": [
    "### **(B)** Estimate the test error of the model"
   ]
  },
  {
   "cell_type": "code",
   "execution_count": 30,
   "id": "0aa508fa-9a43-412c-a95b-5ce6f2c5a554",
   "metadata": {},
   "outputs": [
    {
     "name": "stdout",
     "output_type": "stream",
     "text": [
      "Accuracy: 0.9710\n",
      "Test Error Rate: 0.0290\n"
     ]
    }
   ],
   "source": [
    "# (i)\n",
    "default_train, default_test = train_test_split(default, test_size=0.5, random_state=0)\n",
    "# (ii) fit model using only training dataset\n",
    "X_train = sm.add_constant(default_train[['balance', 'income']])\n",
    "y_train = default_train['default01']\n",
    "model_train = sm.GLM(y_train, X_train, family = sm.families.Binomial()).fit()\n",
    "\n",
    "# (iii)\n",
    "X_test = sm.add_constant(default_test[['balance', 'income']])\n",
    "y_prob = model_train.predict(X_test)\n",
    "# convert prob to labels\n",
    "y_pred = (y_prob > 0.5).astype(int)\n",
    "\n",
    "accuracy = accuracy_score(default_test['default01'], y_pred)\n",
    "# test error\n",
    "test_error = 1 - accuracy\n",
    "\n",
    "print(f\"Accuracy: {accuracy:.4f}\")\n",
    "print(f\"Test Error Rate: {test_error:.4f}\")\n"
   ]
  },
  {
   "cell_type": "markdown",
   "id": "9050962c-e8f3-4b2e-9d8a-df655d16f52c",
   "metadata": {},
   "source": [
    "### **(C)** \n",
    "Repeat the process in (b) three times, using three different splits of the observations into a training set and a validation set. \n"
   ]
  },
  {
   "cell_type": "code",
   "execution_count": 44,
   "id": "c11f2e6d-28ff-496e-8ef7-e67071984b02",
   "metadata": {},
   "outputs": [
    {
     "name": "stdout",
     "output_type": "stream",
     "text": [
      "Accuracy: 0.9727\n",
      "Test Error Rate: 0.0273\n",
      "Accuracy: 0.9710\n",
      "Test Error Rate: 0.0290\n",
      "Accuracy: 0.9726\n",
      "Test Error Rate: 0.0274\n"
     ]
    }
   ],
   "source": [
    "# Write a function of step B\n",
    "def fit_logisticregression(data, predictors, response_var, split_ratio):\n",
    "    # (i)\n",
    "    default_train, default_test = train_test_split(data, test_size = split_ratio, random_state=0)\n",
    "    # (ii) fit model using only training dataset\n",
    "    X_train = sm.add_constant(default_train[predictors])\n",
    "    y_train = default_train[response_var]\n",
    "    model_train = sm.GLM(y_train, X_train, family = sm.families.Binomial()).fit()\n",
    "\n",
    "    # (iii)\n",
    "    X_test = sm.add_constant(default_test[predictors])\n",
    "    y_prob = model_train.predict(X_test)\n",
    "    # convert prob to labels\n",
    "    y_pred = (y_prob > 0.5).astype(int)\n",
    "\n",
    "    accuracy = accuracy_score(default_test[response_var], y_pred)\n",
    "    # test error\n",
    "    test_error = 1 - accuracy\n",
    "    return test_error, accuracy\n",
    "\n",
    "\n",
    "\n",
    "split_ratio = [0.3 ,0.5, 0.8]\n",
    "results_list = []\n",
    "for i in split_ratio:\n",
    "    test_error, accuracy = fit_logisticregression(default, ['balance', 'income'], 'default01', i)\n",
    "    results_list.append((i, accuracy, test_error))\n",
    "    print(f\"Accuracy: {accuracy:.4f}\")\n",
    "    print(f\"Test Error Rate: {test_error:.4f}\")\n"
   ]
  },
  {
   "cell_type": "markdown",
   "id": "974ca74e-fa21-498c-8403-8b9ee788b3d4",
   "metadata": {},
   "source": [
    "### **(D)** Logistic regression with three predictors: income,balance, student"
   ]
  },
  {
   "cell_type": "code",
   "execution_count": 48,
   "id": "efecf218-875b-4186-bf3e-35acac00f579",
   "metadata": {},
   "outputs": [
    {
     "name": "stdout",
     "output_type": "stream",
     "text": [
      "Test Error Rate :  0.0292 \n"
     ]
    }
   ],
   "source": [
    "default['student01'] = default['student'].map({'Yes':1, 'No':0 })\n",
    "test_error, accuracy = fit_logisticregression(default, ['balance', 'income', 'student01'], 'default01', 0.5)\n",
    "print(f\"Test Error Rate : {test_error: 0.4f} \")"
   ]
  }
 ],
 "metadata": {
  "kernelspec": {
   "display_name": "Python 3 (ipykernel)",
   "language": "python",
   "name": "python3"
  },
  "language_info": {
   "codemirror_mode": {
    "name": "ipython",
    "version": 3
   },
   "file_extension": ".py",
   "mimetype": "text/x-python",
   "name": "python",
   "nbconvert_exporter": "python",
   "pygments_lexer": "ipython3",
   "version": "3.12.8"
  }
 },
 "nbformat": 4,
 "nbformat_minor": 5
}
