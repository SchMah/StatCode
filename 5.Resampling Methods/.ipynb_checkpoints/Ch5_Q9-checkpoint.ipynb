{
 "cells": [
  {
   "cell_type": "code",
   "execution_count": 9,
   "id": "49b370bb-cfa0-4be8-af93-61468054c5f2",
   "metadata": {},
   "outputs": [],
   "source": [
    "import os \n",
    "import numpy as np\n",
    "import pandas as pd\n",
    "import matplotlib.pyplot as plt\n",
    "from ISLP import load_data\n",
    "from sklearn.utils import resample\n",
    "#import statsmodels.api as sm\n",
    "#from sklearn.metrics import accuracy_score\n",
    "#from sklearn.model_selection import cross_validate"
   ]
  },
  {
   "cell_type": "code",
   "execution_count": 2,
   "id": "70a2bdd0-ddad-4e2e-834f-1b43412d29f2",
   "metadata": {},
   "outputs": [
    {
     "data": {
      "text/html": [
       "<div>\n",
       "<style scoped>\n",
       "    .dataframe tbody tr th:only-of-type {\n",
       "        vertical-align: middle;\n",
       "    }\n",
       "\n",
       "    .dataframe tbody tr th {\n",
       "        vertical-align: top;\n",
       "    }\n",
       "\n",
       "    .dataframe thead th {\n",
       "        text-align: right;\n",
       "    }\n",
       "</style>\n",
       "<table border=\"1\" class=\"dataframe\">\n",
       "  <thead>\n",
       "    <tr style=\"text-align: right;\">\n",
       "      <th></th>\n",
       "      <th>crim</th>\n",
       "      <th>zn</th>\n",
       "      <th>indus</th>\n",
       "      <th>chas</th>\n",
       "      <th>nox</th>\n",
       "      <th>rm</th>\n",
       "      <th>age</th>\n",
       "      <th>dis</th>\n",
       "      <th>rad</th>\n",
       "      <th>tax</th>\n",
       "      <th>ptratio</th>\n",
       "      <th>lstat</th>\n",
       "      <th>medv</th>\n",
       "    </tr>\n",
       "  </thead>\n",
       "  <tbody>\n",
       "    <tr>\n",
       "      <th>0</th>\n",
       "      <td>0.00632</td>\n",
       "      <td>18.0</td>\n",
       "      <td>2.31</td>\n",
       "      <td>0</td>\n",
       "      <td>0.538</td>\n",
       "      <td>6.575</td>\n",
       "      <td>65.2</td>\n",
       "      <td>4.0900</td>\n",
       "      <td>1</td>\n",
       "      <td>296</td>\n",
       "      <td>15.3</td>\n",
       "      <td>4.98</td>\n",
       "      <td>24.0</td>\n",
       "    </tr>\n",
       "    <tr>\n",
       "      <th>1</th>\n",
       "      <td>0.02731</td>\n",
       "      <td>0.0</td>\n",
       "      <td>7.07</td>\n",
       "      <td>0</td>\n",
       "      <td>0.469</td>\n",
       "      <td>6.421</td>\n",
       "      <td>78.9</td>\n",
       "      <td>4.9671</td>\n",
       "      <td>2</td>\n",
       "      <td>242</td>\n",
       "      <td>17.8</td>\n",
       "      <td>9.14</td>\n",
       "      <td>21.6</td>\n",
       "    </tr>\n",
       "    <tr>\n",
       "      <th>2</th>\n",
       "      <td>0.02729</td>\n",
       "      <td>0.0</td>\n",
       "      <td>7.07</td>\n",
       "      <td>0</td>\n",
       "      <td>0.469</td>\n",
       "      <td>7.185</td>\n",
       "      <td>61.1</td>\n",
       "      <td>4.9671</td>\n",
       "      <td>2</td>\n",
       "      <td>242</td>\n",
       "      <td>17.8</td>\n",
       "      <td>4.03</td>\n",
       "      <td>34.7</td>\n",
       "    </tr>\n",
       "    <tr>\n",
       "      <th>3</th>\n",
       "      <td>0.03237</td>\n",
       "      <td>0.0</td>\n",
       "      <td>2.18</td>\n",
       "      <td>0</td>\n",
       "      <td>0.458</td>\n",
       "      <td>6.998</td>\n",
       "      <td>45.8</td>\n",
       "      <td>6.0622</td>\n",
       "      <td>3</td>\n",
       "      <td>222</td>\n",
       "      <td>18.7</td>\n",
       "      <td>2.94</td>\n",
       "      <td>33.4</td>\n",
       "    </tr>\n",
       "    <tr>\n",
       "      <th>4</th>\n",
       "      <td>0.06905</td>\n",
       "      <td>0.0</td>\n",
       "      <td>2.18</td>\n",
       "      <td>0</td>\n",
       "      <td>0.458</td>\n",
       "      <td>7.147</td>\n",
       "      <td>54.2</td>\n",
       "      <td>6.0622</td>\n",
       "      <td>3</td>\n",
       "      <td>222</td>\n",
       "      <td>18.7</td>\n",
       "      <td>5.33</td>\n",
       "      <td>36.2</td>\n",
       "    </tr>\n",
       "  </tbody>\n",
       "</table>\n",
       "</div>"
      ],
      "text/plain": [
       "      crim    zn  indus  chas    nox     rm   age     dis  rad  tax  ptratio  \\\n",
       "0  0.00632  18.0   2.31     0  0.538  6.575  65.2  4.0900    1  296     15.3   \n",
       "1  0.02731   0.0   7.07     0  0.469  6.421  78.9  4.9671    2  242     17.8   \n",
       "2  0.02729   0.0   7.07     0  0.469  7.185  61.1  4.9671    2  242     17.8   \n",
       "3  0.03237   0.0   2.18     0  0.458  6.998  45.8  6.0622    3  222     18.7   \n",
       "4  0.06905   0.0   2.18     0  0.458  7.147  54.2  6.0622    3  222     18.7   \n",
       "\n",
       "   lstat  medv  \n",
       "0   4.98  24.0  \n",
       "1   9.14  21.6  \n",
       "2   4.03  34.7  \n",
       "3   2.94  33.4  \n",
       "4   5.33  36.2  "
      ]
     },
     "execution_count": 2,
     "metadata": {},
     "output_type": "execute_result"
    }
   ],
   "source": [
    "boston = load_data('Boston')\n",
    "boston.head()"
   ]
  },
  {
   "cell_type": "code",
   "execution_count": 50,
   "id": "a8050852-e699-4398-97b6-6b7498a8275b",
   "metadata": {},
   "outputs": [
    {
     "name": "stdout",
     "output_type": "stream",
     "text": [
      "22.532806324110677\n",
      "0.4084569346972866\n"
     ]
    }
   ],
   "source": [
    "# (a & b)\n",
    "mu_hat = np.mean(boston['medv'])\n",
    "SE_mu = np.std(boston['medv']) / np.sqrt(np.shape(boston['medv'])[0])\n",
    "print(mu_hat)\n",
    "print(SE_mu)"
   ]
  },
  {
   "cell_type": "code",
   "execution_count": 55,
   "id": "b3efd000-8b5b-45fa-9faf-0e554567b592",
   "metadata": {},
   "outputs": [
    {
     "name": "stdout",
     "output_type": "stream",
     "text": [
      "0.012490086217443195\n"
     ]
    },
    {
     "data": {
      "image/png": "[encoded data removed]",
      "text/plain": [
       "<Figure size 640x480 with 1 Axes>"
      ]
     },
     "metadata": {},
     "output_type": "display_data"
    }
   ],
   "source": [
    "# (c)\n",
    "n_bootstraps = 1000\n",
    "boot_means = []\n",
    "for i in range(n_bootstraps):\n",
    "    indices = np.random.choice(len(boston['medv']), size = len(boston['medv']),replace = True)\n",
    "    sample_data = boston['medv'].iloc[indices]\n",
    "    boot_means.append(np.mean(sample_data))\n",
    "\n",
    "# Now estimate the standard error of ˆµ using the bootstrap\n",
    "bootratp_SE = np.std(boot_means)/np.sqrt(np.shape(boot_means)[0])\n",
    "print(bootratp_SE)\n",
    "\n",
    "ax = plt.hist(boot_means)"
   ]
  },
  {
   "cell_type": "code",
   "execution_count": 56,
   "id": "a9bdfbf7-a3cd-4924-920c-50990c42834b",
   "metadata": {},
   "outputs": [
    {
     "name": "stdout",
     "output_type": "stream",
     "text": [
      "Bootstrap 95% Confidence Interval: [21.769081027667987, 23.337969367588936]\n",
      "Formula-based 95% Confidence Interval: [21.715892454716105, 23.34972019350525]\n"
     ]
    }
   ],
   "source": [
    "# (d) 95% conf interval for the mean of medv\n",
    "\n",
    "conf_int_bootstrap = [np.percentile(boot_means, 2.5), np.percentile(boot_means, 97.5)]\n",
    "print(f\"Bootstrap 95% Confidence Interval: {conf_int_bootstrap}\")\n",
    "\n",
    "#  95% \n",
    "conf_int_formula = [mu_hat - 2 * SE_mu, mu_hat + 2 * SE_mu]\n",
    "print(f\"Formula-based 95% Confidence Interval: {conf_int_formula}\")\n"
   ]
  },
  {
   "cell_type": "code",
   "execution_count": 57,
   "id": "31acea63-046e-4562-9d37-108bd2b131a8",
   "metadata": {},
   "outputs": [
    {
     "name": "stdout",
     "output_type": "stream",
     "text": [
      "21.2\n"
     ]
    }
   ],
   "source": [
    "# (e) compute median of boston medv\n",
    "medv_median = np.median(boston['medv'])\n",
    "print(medv_median)"
   ]
  },
  {
   "cell_type": "code",
   "execution_count": 66,
   "id": "27feb159-2917-4a70-8da8-707ccf0d3f82",
   "metadata": {},
   "outputs": [
    {
     "name": "stdout",
     "output_type": "stream",
     "text": [
      "0.011933322986494573\n",
      "21.2\n",
      "0.37736480691765595\n"
     ]
    }
   ],
   "source": [
    "# (f) standard error of the median using the bootstrap\n",
    "n_bootstraps = 1000\n",
    "boot_median = []\n",
    "\n",
    "for i in range(n_bootstraps):\n",
    "    indices = np.random.choice(len(boston['medv']), size = len(boston['medv']), replace = True)\n",
    "    sample_data = boston['medv'].iloc[indices]\n",
    "    boot_median.append(np.median(sample_data))\n",
    "\n",
    "SE_boot_med = np.std(boot_median) / np.sqrt(np.shape(boot_median)[0])\n",
    "print(SE_boot_med)\n",
    "\n",
    "print(np.median(boot_median))\n",
    "print(np.std(boot_median))"
   ]
  },
  {
   "cell_type": "code",
   "execution_count": 68,
   "id": "aa0ef3fa-d9a7-4427-b853-19f12f9dbb56",
   "metadata": {},
   "outputs": [
    {
     "name": "stdout",
     "output_type": "stream",
     "text": [
      "12.75\n"
     ]
    }
   ],
   "source": [
    "# (g)\n",
    "prcntl_10th = np.percentile(boston['medv'],10)\n",
    "print(prcntl_10th)"
   ]
  },
  {
   "cell_type": "code",
   "execution_count": 76,
   "id": "e9c7b6d5-64de-4c34-a7bc-363e47a0f6dd",
   "metadata": {},
   "outputs": [
    {
     "name": "stdout",
     "output_type": "stream",
     "text": [
      "0.01587427951120932\n",
      "0.5019887946956585\n"
     ]
    }
   ],
   "source": [
    "# (h)\n",
    "bootstrap_n = 1000\n",
    "prcntl_10_boot = []\n",
    "\n",
    "for i in range(bootstrap_n):\n",
    "    indices = np.random.choice(len(boston['medv']), size = len(boston['medv']), replace =True)\n",
    "    sample_data = boston['medv'].iloc[indices]\n",
    "    prcntl_10_boot.append(np.percentile(sample_data,10))\n",
    "\n",
    "SE_prcntl_10_boot = np.std(prcntl_10_boot) / np.sqrt(len(prcntl_10_boot))\n",
    "print(SE_prcntl_10_boot)\n",
    "print(np.std(prcntl_10_boot))"
   ]
  }
 ],
 "metadata": {
  "kernelspec": {
   "display_name": "Python 3 (ipykernel)",
   "language": "python",
   "name": "python3"
  },
  "language_info": {
   "codemirror_mode": {
    "name": "ipython",
    "version": 3
   },
   "file_extension": ".py",
   "mimetype": "text/x-python",
   "name": "python",
   "nbconvert_exporter": "python",
   "pygments_lexer": "ipython3",
   "version": "3.12.8"
  }
 },
 "nbformat": 4,
 "nbformat_minor": 5
}
